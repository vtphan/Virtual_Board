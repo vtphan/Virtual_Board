{
 "cells": [
  {
   "cell_type": "markdown",
   "id": "a0298fd2-28ce-4924-ae63-1ae8a475af39",
   "metadata": {},
   "source": [
    "## Running Time Analysis of Linearly Recursive Programs"
   ]
  },
  {
   "cell_type": "markdown",
   "id": "f13d0f2b-3df5-4756-9726-6c3c581415d5",
   "metadata": {},
   "source": [
    "Key ideas in determining running time functions of recursive programs:\n",
    "\n",
    "* Use the running time function T to indicate the running time of recursive calls.\n",
    "\n",
    "* The parameter of T is the input size of the recursive call.\n",
    "\n",
    "* Input size should be reduced.\n",
    "\n",
    "* Use substitution or the Master's theorem to figure the exact equation for T."
   ]
  },
  {
   "cell_type": "markdown",
   "id": "681e455c-2076-457e-aa8a-00ef737c1621",
   "metadata": {},
   "source": [
    "### Key ideas in thinking about recursive designs\n",
    "\n",
    "* Understand the concept of a subproblem.\n",
    "\n",
    "* See subproblems in a problem.\n",
    "\n",
    "* Try to solve a problem using solutions of subproblems.\n",
    "\n",
    "* Create subproblems: problem reduction\n",
    "\n",
    "* Solve the problem directly when it's not possible to create subproblems.\n"
   ]
  },
  {
   "cell_type": "markdown",
   "id": "11de033e-059a-4c6a-8876-90629dd01889",
   "metadata": {},
   "source": [
    "### Problem Reduction\n",
    "\n",
    "Compare how to create subproblems using iterative versus recursive techniques.\n",
    "\n",
    "**The problem**: is_palindrome -- True if input is a palindrome; False if not.\n",
    "\n",
    "ABBA is a palindrome.\n",
    "\n",
    "Solution design:\n",
    "+ compare first and last items.\n",
    "+ if they are equal, check the middle part."
   ]
  },
  {
   "cell_type": "code",
   "execution_count": null,
   "id": "e75a3c3b-a876-43dc-9320-68d751465b5f",
   "metadata": {},
   "outputs": [],
   "source": [
    "## Recursive design\n",
    "#\n",
    "# Input: L, a list of n things.\n",
    "#\n",
    "def is_palindrome(L):\n",
    "    if len(L)<=1:\n",
    "        return True\n",
    "    # if L[0]!=L[-1]:\n",
    "    #     return False\n",
    "    # else:\n",
    "    #     return is_palindrome(L[1 : -1]) \n",
    "    return L[0]==L[-1] and is_palindrome(L[1:-1])"
   ]
  },
  {
   "cell_type": "markdown",
   "id": "d0029d5f-9898-4f51-b6eb-be6eecada042",
   "metadata": {},
   "source": [
    "We reduced a problem of size n, to a subproblem of size n-2.\n",
    "\n",
    "In some way, the recursive design is more \"declarative\".  A list is a panlindrome if first==last and the rest is also a palindrome."
   ]
  },
  {
   "cell_type": "code",
   "execution_count": null,
   "id": "a71e2f00-cee6-4791-8a0c-912bf0fa4964",
   "metadata": {},
   "outputs": [],
   "source": [
    "## Iterative design\n",
    "\n",
    "def is_palindrome(L):\n",
    "    first = 0\n",
    "    last = len(L)-1\n",
    "    while first < last:\n",
    "        if L[first]!=L[last]:\n",
    "            return False\n",
    "        else:\n",
    "            first += 1\n",
    "            last -= 1\n",
    "    return True"
   ]
  },
  {
   "cell_type": "markdown",
   "id": "e36ff4c3-26e4-47bd-89bd-155d364448e9",
   "metadata": {},
   "source": [
    "The iterative design spells out exactly **how** to solve the problem.  It's \"procedural\"."
   ]
  },
  {
   "cell_type": "code",
   "execution_count": null,
   "id": "02e2f979-26a2-4a60-a71e-a39493281f7a",
   "metadata": {},
   "outputs": [],
   "source": [
    "#### delegation\n",
    "def is_palindrome(L):\n",
    "    return L==list(reversed(L))"
   ]
  },
  {
   "cell_type": "markdown",
   "id": "5f66f7b0-f08c-4b9a-8a7a-240d32b2cdc4",
   "metadata": {},
   "source": [
    "### Running time analysis"
   ]
  },
  {
   "cell_type": "code",
   "execution_count": null,
   "id": "2ecd8d53-a81c-40c0-82de-b25da0c05ff7",
   "metadata": {},
   "outputs": [],
   "source": []
  }
 ],
 "metadata": {
  "kernelspec": {
   "display_name": "Python 3 (ipykernel)",
   "language": "python",
   "name": "python3"
  },
  "language_info": {
   "codemirror_mode": {
    "name": "ipython",
    "version": 3
   },
   "file_extension": ".py",
   "mimetype": "text/x-python",
   "name": "python",
   "nbconvert_exporter": "python",
   "pygments_lexer": "ipython3",
   "version": "3.10.6"
  }
 },
 "nbformat": 4,
 "nbformat_minor": 5
}
